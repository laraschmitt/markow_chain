{
 "cells": [
  {
   "cell_type": "code",
   "execution_count": 2,
   "metadata": {},
   "outputs": [],
   "source": [
    "import pandas as pd\n",
    "from matplotlib import pyplot as plt\n",
    "import numpy as np"
   ]
  },
  {
   "cell_type": "code",
   "execution_count": 9,
   "metadata": {
    "scrolled": true
   },
   "outputs": [
    {
     "data": {
      "text/html": [
       "<div>\n",
       "<style scoped>\n",
       "    .dataframe tbody tr th:only-of-type {\n",
       "        vertical-align: middle;\n",
       "    }\n",
       "\n",
       "    .dataframe tbody tr th {\n",
       "        vertical-align: top;\n",
       "    }\n",
       "\n",
       "    .dataframe thead th {\n",
       "        text-align: right;\n",
       "    }\n",
       "</style>\n",
       "<table border=\"1\" class=\"dataframe\">\n",
       "  <thead>\n",
       "    <tr style=\"text-align: right;\">\n",
       "      <th></th>\n",
       "      <th>timestamp</th>\n",
       "      <th>location</th>\n",
       "      <th>customer_id</th>\n",
       "      <th>date</th>\n",
       "    </tr>\n",
       "  </thead>\n",
       "  <tbody>\n",
       "    <tr>\n",
       "      <th>0</th>\n",
       "      <td>2019-09-02 07:03:00</td>\n",
       "      <td>dairy</td>\n",
       "      <td>2019-09-02_1</td>\n",
       "      <td>2019-09-02</td>\n",
       "    </tr>\n",
       "    <tr>\n",
       "      <th>1</th>\n",
       "      <td>2019-09-02 07:03:00</td>\n",
       "      <td>dairy</td>\n",
       "      <td>2019-09-02_2</td>\n",
       "      <td>2019-09-02</td>\n",
       "    </tr>\n",
       "  </tbody>\n",
       "</table>\n",
       "</div>"
      ],
      "text/plain": [
       "            timestamp location   customer_id        date\n",
       "0 2019-09-02 07:03:00    dairy  2019-09-02_1  2019-09-02\n",
       "1 2019-09-02 07:03:00    dairy  2019-09-02_2  2019-09-02"
      ]
     },
     "execution_count": 9,
     "metadata": {},
     "output_type": "execute_result"
    }
   ],
   "source": [
    "df = pd.read_csv('data/data_clean.csv', index_col=0, sep=',', header=0)\n",
    "\n",
    "# cast timestamp to datetime format\n",
    "df.timestamp = pd.to_datetime(df.timestamp)\n",
    "df.head(2)"
   ]
  },
  {
   "cell_type": "markdown",
   "metadata": {},
   "source": [
    "### time each customer spent in the market:"
   ]
  },
  {
   "cell_type": "code",
   "execution_count": 4,
   "metadata": {},
   "outputs": [],
   "source": [
    "minutes_spend_list = []\n",
    "\n",
    "# loop through the customer id columnn:\n",
    "for cust in df['customer_id'].unique():\n",
    "    df_at = df[df['customer_id'] == cust] \n",
    "    \n",
    "    # get first and last timestamp for current customer_id\n",
    "    first_occ = df_at.timestamp[:1].values \n",
    "    last_occ = df_at.timestamp[-1:].values\n",
    "    \n",
    "    # calculate time diff\n",
    "    timediff = (last_occ - first_occ)/60000000000 # nanoseconds to minutes\n",
    "    \n",
    "    minutes_spend_list.append(timediff.tolist()[0])\n"
   ]
  },
  {
   "cell_type": "code",
   "execution_count": 33,
   "metadata": {},
   "outputs": [
    {
     "name": "stdout",
     "output_type": "stream",
     "text": [
      "The average time customers spend in the supermarket is: \n",
      " 6.26 minutes \n",
      " The maximum time customers spend in the supermarket is: \n",
      " 52 minutes \n",
      " The minimum time customers spend in the supermarket is: \n",
      " 1 minute(s) \n",
      " The most commom time customers spend in the supermarket is: \n",
      " 1 minute(s)  \n",
      "\n"
     ]
    }
   ],
   "source": [
    "average = sum(minutes_spend_list) / len(minutes_spend_list)\n",
    "max_time = max(minutes_spend_list)\n",
    "min_time = min(minutes_spend_list)\n",
    "\n",
    "def most_common(lst):\n",
    "    return max(set(lst), key=lst.count)\n",
    "\n",
    "most_common_time = most_common(minutes_spend_list)\n",
    "\n",
    "print(\n",
    "    'The average time customers spend in the supermarket is: \\n', \n",
    "      round(average, 2), 'minutes \\n', \n",
    "    'The maximum time customers spend in the supermarket is: \\n',\n",
    "      round(max_time, 2), 'minutes \\n', \n",
    "    'The minimum time customers spend in the supermarket is: \\n',\n",
    "      round(min_time, 2), 'minute(s) \\n', \n",
    "    'The most commom time customers spend in the supermarket is: \\n',\n",
    "      round(most_common_time, 2), 'minute(s)  \\n', \n",
    "     )"
   ]
  },
  {
   "cell_type": "markdown",
   "metadata": {},
   "source": [
    "#### Pandas solution:"
   ]
  },
  {
   "cell_type": "code",
   "execution_count": 35,
   "metadata": {},
   "outputs": [
    {
     "data": {
      "text/html": [
       "<div>\n",
       "<style scoped>\n",
       "    .dataframe tbody tr th:only-of-type {\n",
       "        vertical-align: middle;\n",
       "    }\n",
       "\n",
       "    .dataframe tbody tr th {\n",
       "        vertical-align: top;\n",
       "    }\n",
       "\n",
       "    .dataframe thead tr th {\n",
       "        text-align: left;\n",
       "    }\n",
       "\n",
       "    .dataframe thead tr:last-of-type th {\n",
       "        text-align: right;\n",
       "    }\n",
       "</style>\n",
       "<table border=\"1\" class=\"dataframe\">\n",
       "  <thead>\n",
       "    <tr>\n",
       "      <th></th>\n",
       "      <th></th>\n",
       "      <th colspan=\"2\" halign=\"left\">timestamp</th>\n",
       "    </tr>\n",
       "    <tr>\n",
       "      <th></th>\n",
       "      <th></th>\n",
       "      <th>first</th>\n",
       "      <th>last</th>\n",
       "    </tr>\n",
       "    <tr>\n",
       "      <th>customer_id</th>\n",
       "      <th>location</th>\n",
       "      <th></th>\n",
       "      <th></th>\n",
       "    </tr>\n",
       "  </thead>\n",
       "  <tbody>\n",
       "    <tr>\n",
       "      <th rowspan=\"2\" valign=\"top\">2019-09-02_1</th>\n",
       "      <th>checkout</th>\n",
       "      <td>2019-09-02 07:05:00</td>\n",
       "      <td>2019-09-02 07:05:00</td>\n",
       "    </tr>\n",
       "    <tr>\n",
       "      <th>dairy</th>\n",
       "      <td>2019-09-02 07:03:00</td>\n",
       "      <td>2019-09-02 07:03:00</td>\n",
       "    </tr>\n",
       "    <tr>\n",
       "      <th rowspan=\"2\" valign=\"top\">2019-09-02_10</th>\n",
       "      <th>checkout</th>\n",
       "      <td>2019-09-02 07:08:00</td>\n",
       "      <td>2019-09-02 07:08:00</td>\n",
       "    </tr>\n",
       "    <tr>\n",
       "      <th>fruit</th>\n",
       "      <td>2019-09-02 07:06:00</td>\n",
       "      <td>2019-09-02 07:06:00</td>\n",
       "    </tr>\n",
       "    <tr>\n",
       "      <th>2019-09-02_100</th>\n",
       "      <th>checkout</th>\n",
       "      <td>2019-09-02 08:03:00</td>\n",
       "      <td>2019-09-02 08:03:00</td>\n",
       "    </tr>\n",
       "  </tbody>\n",
       "</table>\n",
       "</div>"
      ],
      "text/plain": [
       "                                  timestamp                    \n",
       "                                      first                last\n",
       "customer_id    location                                        \n",
       "2019-09-02_1   checkout 2019-09-02 07:05:00 2019-09-02 07:05:00\n",
       "               dairy    2019-09-02 07:03:00 2019-09-02 07:03:00\n",
       "2019-09-02_10  checkout 2019-09-02 07:08:00 2019-09-02 07:08:00\n",
       "               fruit    2019-09-02 07:06:00 2019-09-02 07:06:00\n",
       "2019-09-02_100 checkout 2019-09-02 08:03:00 2019-09-02 08:03:00"
      ]
     },
     "execution_count": 35,
     "metadata": {},
     "output_type": "execute_result"
    }
   ],
   "source": [
    "df_occurence = df.groupby(['customer_id', 'location']).agg({'timestamp': ['first', 'last']})\n",
    "df_occurence.head()"
   ]
  },
  {
   "cell_type": "code",
   "execution_count": 24,
   "metadata": {},
   "outputs": [],
   "source": [
    "duration = df_occurence['timestamp','last'] - df_occurence['timestamp','first']"
   ]
  },
  {
   "cell_type": "code",
   "execution_count": 38,
   "metadata": {},
   "outputs": [],
   "source": [
    "spent_minutes = duration.dt.seconds/60\n",
    "spmi = spent_minutes.reset_index(name='time spent')\n",
    "spmin = spmi.groupby('time spent').count()"
   ]
  }
 ],
 "metadata": {
  "kernelspec": {
   "display_name": "Python 3",
   "language": "python",
   "name": "python3"
  },
  "language_info": {
   "codemirror_mode": {
    "name": "ipython",
    "version": 3
   },
   "file_extension": ".py",
   "mimetype": "text/x-python",
   "name": "python",
   "nbconvert_exporter": "python",
   "pygments_lexer": "ipython3",
   "version": "3.8.5"
  }
 },
 "nbformat": 4,
 "nbformat_minor": 4
}
